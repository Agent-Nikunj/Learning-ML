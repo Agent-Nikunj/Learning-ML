{
 "cells": [
  {
   "cell_type": "markdown",
   "id": "d3bd1cee",
   "metadata": {},
   "source": [
    "# Spam Ham Detection using Naive Bayes"
   ]
  },
  {
   "cell_type": "code",
   "execution_count": 1,
   "id": "bc325fce",
   "metadata": {},
   "outputs": [],
   "source": [
    "import numpy as np\n",
    "import pandas as pd\n",
    "import matplotlib.pyplot as plt\n",
    "import re\n",
    "import nltk\n",
    "from nltk.corpus import stopwords\n",
    "from nltk.stem.porter import PorterStemmer"
   ]
  },
  {
   "cell_type": "code",
   "execution_count": 2,
   "id": "49604aae",
   "metadata": {},
   "outputs": [
    {
     "data": {
      "text/plain": [
       "(   email_id label                                               text  \\\n",
       " 0       605   ham  Subject: enron methanol ; meter # : 988291\\r\\n...   \n",
       " 1      2349   ham  Subject: hpl nom for january 9 , 2001\\r\\n( see...   \n",
       " 2      3624   ham  Subject: neon retreat\\r\\nho ho ho , we ' re ar...   \n",
       " 3      4685  spam  Subject: photoshop , windows , office . cheap ...   \n",
       " 4      2030   ham  Subject: re : indian springs\\r\\nthis deal is t...   \n",
       " \n",
       "    label_num  \n",
       " 0          0  \n",
       " 1          0  \n",
       " 2          0  \n",
       " 3          1  \n",
       " 4          0  ,\n",
       " Index(['email_id', 'label', 'text', 'label_num'], dtype='object'))"
      ]
     },
     "execution_count": 2,
     "metadata": {},
     "output_type": "execute_result"
    }
   ],
   "source": [
    "data = pd.read_csv('spam_ham_dataset.csv')\n",
    "data.head(), data.columns"
   ]
  },
  {
   "cell_type": "code",
   "execution_count": 3,
   "id": "5c066218",
   "metadata": {},
   "outputs": [
    {
     "name": "stdout",
     "output_type": "stream",
     "text": [
      "<class 'pandas.core.frame.DataFrame'>\n",
      "RangeIndex: 5171 entries, 0 to 5170\n",
      "Data columns (total 4 columns):\n",
      " #   Column     Non-Null Count  Dtype \n",
      "---  ------     --------------  ----- \n",
      " 0   email_id   5171 non-null   int64 \n",
      " 1   label      5171 non-null   object\n",
      " 2   text       5171 non-null   object\n",
      " 3   label_num  5171 non-null   int64 \n",
      "dtypes: int64(2), object(2)\n",
      "memory usage: 161.7+ KB\n"
     ]
    }
   ],
   "source": [
    "data.info()"
   ]
  },
  {
   "cell_type": "code",
   "execution_count": 4,
   "id": "63ad8b9e",
   "metadata": {},
   "outputs": [
    {
     "data": {
      "text/plain": [
       "0       Subject: enron methanol ; meter # : 988291\\r\\n...\n",
       "1       Subject: hpl nom for january 9 , 2001\\r\\n( see...\n",
       "2       Subject: neon retreat\\r\\nho ho ho , we ' re ar...\n",
       "3       Subject: photoshop , windows , office . cheap ...\n",
       "4       Subject: re : indian springs\\r\\nthis deal is t...\n",
       "                              ...                        \n",
       "5166    Subject: put the 10 on the ft\\r\\nthe transport...\n",
       "5167    Subject: 3 / 4 / 2000 and following noms\\r\\nhp...\n",
       "5168    Subject: calpine daily gas nomination\\r\\n>\\r\\n...\n",
       "5169    Subject: industrial worksheets for august 2000...\n",
       "5170    Subject: important online banking alert\\r\\ndea...\n",
       "Name: text, Length: 5171, dtype: object"
      ]
     },
     "execution_count": 4,
     "metadata": {},
     "output_type": "execute_result"
    }
   ],
   "source": [
    "data['text']"
   ]
  },
  {
   "cell_type": "code",
   "execution_count": 5,
   "id": "02075e3d",
   "metadata": {},
   "outputs": [
    {
     "name": "stderr",
     "output_type": "stream",
     "text": [
      "C:\\Users\\ujjwa\\AppData\\Local\\Temp\\ipykernel_5344\\1519568145.py:3: SettingWithCopyWarning: \n",
      "A value is trying to be set on a copy of a slice from a DataFrame\n",
      "\n",
      "See the caveats in the documentation: https://pandas.pydata.org/pandas-docs/stable/user_guide/indexing.html#returning-a-view-versus-a-copy\n",
      "  data['text'][i] = data['text'][i][1:]\n"
     ]
    }
   ],
   "source": [
    "data['text'] = data['text'].map(lambda text:re.sub('[^a-zA-Z0-9]+', ' ',text)).apply(lambda x: (x.lower()).split())\n",
    "for i in range(len(data)):\n",
    "    data['text'][i] = data['text'][i][1:]"
   ]
  },
  {
   "cell_type": "code",
   "execution_count": 6,
   "id": "e6f77c90",
   "metadata": {},
   "outputs": [
    {
     "data": {
      "text/plain": [
       "0       [enron, methanol, meter, 988291, this, is, a, ...\n",
       "1       [hpl, nom, for, january, 9, 2001, see, attache...\n",
       "2       [neon, retreat, ho, ho, ho, we, re, around, to...\n",
       "3       [photoshop, windows, office, cheap, main, tren...\n",
       "4       [re, indian, springs, this, deal, is, to, book...\n",
       "                              ...                        \n",
       "5166    [put, the, 10, on, the, ft, the, transport, vo...\n",
       "5167    [3, 4, 2000, and, following, noms, hpl, can, t...\n",
       "5168    [calpine, daily, gas, nomination, julie, as, i...\n",
       "5169    [industrial, worksheets, for, august, 2000, ac...\n",
       "5170    [important, online, banking, alert, dear, valu...\n",
       "Name: text, Length: 5171, dtype: object"
      ]
     },
     "execution_count": 6,
     "metadata": {},
     "output_type": "execute_result"
    }
   ],
   "source": [
    "data['text']"
   ]
  },
  {
   "cell_type": "code",
   "execution_count": 7,
   "id": "51e024fc",
   "metadata": {},
   "outputs": [],
   "source": [
    "ps = PorterStemmer()\n",
    "corpus=data['text'].apply(lambda text_list:' '.join(list(map(lambda word:ps.stem(word),(list(filter(lambda text:text not in set(stopwords.words('english')),text_list)))))))"
   ]
  },
  {
   "cell_type": "code",
   "execution_count": 8,
   "id": "8879b888",
   "metadata": {},
   "outputs": [
    {
     "data": {
      "text/plain": [
       "0       enron methanol meter 988291 follow note gave m...\n",
       "1       hpl nom januari 9 2001 see attach file hplnol ...\n",
       "2       neon retreat ho ho ho around wonder time year ...\n",
       "3       photoshop window offic cheap main trend abas d...\n",
       "4       indian spring deal book teco pvr revenu unders...\n",
       "                              ...                        \n",
       "5166    put 10 ft transport volum decreas 25000 10000 ...\n",
       "5167    3 4 2000 follow nom hpl take extra 15 mmcf wee...\n",
       "5168    calpin daili ga nomin juli mention earlier hop...\n",
       "5169    industri worksheet august 2000 activ attach wo...\n",
       "5170    import onlin bank alert dear valu citizensr ba...\n",
       "Name: text, Length: 5171, dtype: object"
      ]
     },
     "execution_count": 8,
     "metadata": {},
     "output_type": "execute_result"
    }
   ],
   "source": [
    "corpus"
   ]
  },
  {
   "cell_type": "code",
   "execution_count": 9,
   "id": "e58833c0",
   "metadata": {},
   "outputs": [],
   "source": [
    "from sklearn.feature_extraction.text import CountVectorizer\n",
    "cv = CountVectorizer()\n",
    "x = cv.fit_transform(corpus.values).toarray()\n",
    "y = data.iloc[:,1].values"
   ]
  },
  {
   "cell_type": "code",
   "execution_count": 10,
   "id": "80d3b356",
   "metadata": {},
   "outputs": [
    {
     "data": {
      "text/plain": [
       "(array([[1, 0, 0, ..., 0, 0, 0],\n",
       "        [0, 0, 0, ..., 0, 0, 0],\n",
       "        [0, 0, 0, ..., 0, 0, 0],\n",
       "        ...,\n",
       "        [0, 0, 0, ..., 0, 0, 0],\n",
       "        [0, 0, 0, ..., 0, 0, 0],\n",
       "        [0, 0, 0, ..., 0, 0, 0]], dtype=int64),\n",
       " array(['ham', 'ham', 'ham', ..., 'ham', 'ham', 'spam'], dtype=object))"
      ]
     },
     "execution_count": 10,
     "metadata": {},
     "output_type": "execute_result"
    }
   ],
   "source": [
    "x,y"
   ]
  },
  {
   "cell_type": "code",
   "execution_count": 11,
   "id": "498e8365",
   "metadata": {},
   "outputs": [
    {
     "data": {
      "text/plain": [
       "((3619, 42595), (1552, 42595))"
      ]
     },
     "execution_count": 11,
     "metadata": {},
     "output_type": "execute_result"
    }
   ],
   "source": [
    "from sklearn.model_selection import train_test_split\n",
    "x_train, x_test, y_train, y_test = train_test_split(x,y, train_size = 0.7)\n",
    "x_train.shape, x_test.shape"
   ]
  },
  {
   "cell_type": "code",
   "execution_count": 12,
   "id": "9f703ca5",
   "metadata": {},
   "outputs": [],
   "source": [
    "from sklearn.naive_bayes import MultinomialNB\n",
    "NB = MultinomialNB()\n",
    "decision = NB.fit(x_train, y_train)"
   ]
  },
  {
   "cell_type": "code",
   "execution_count": 13,
   "id": "5527b105",
   "metadata": {},
   "outputs": [
    {
     "data": {
      "text/plain": [
       "array(['spam', 'ham', 'ham', ..., 'spam', 'ham', 'spam'], dtype='<U4')"
      ]
     },
     "execution_count": 13,
     "metadata": {},
     "output_type": "execute_result"
    }
   ],
   "source": [
    "result = decision.predict(x_test)\n",
    "result"
   ]
  },
  {
   "cell_type": "code",
   "execution_count": 16,
   "id": "8950e904",
   "metadata": {},
   "outputs": [
    {
     "name": "stdout",
     "output_type": "stream",
     "text": [
      "       ham  spam\n",
      "ham   1095    22\n",
      "spam    17   418\n"
     ]
    }
   ],
   "source": [
    "# Convert the set 'classes' to a list\n",
    "classes = list(set(y_test))\n",
    "num_classes = len(classes)\n",
    "\n",
    "# Create the initial DataFrame with zeros\n",
    "con_mat = pd.DataFrame(np.zeros((num_classes, num_classes), dtype=int), index=classes, columns=classes)\n",
    "\n",
    "# Update the confusion matrix with the true labels and predictions\n",
    "for true_label, prediction in zip(y_test, result):\n",
    "    con_mat.loc[true_label, prediction] += 1\n",
    "\n",
    "# Display the confusion matrix\n",
    "print(con_mat)"
   ]
  },
  {
   "cell_type": "code",
   "execution_count": 17,
   "id": "13bb9247",
   "metadata": {},
   "outputs": [
    {
     "data": {
      "image/png": "[encoded data removed]",
      "text/plain": [
       "<Figure size 400x400 with 1 Axes>"
      ]
     },
     "metadata": {},
     "output_type": "display_data"
    }
   ],
   "source": [
    "fig, ax = plt.subplots(figsize=(4, 4))\n",
    "ax.imshow(con_mat)\n",
    "ax.grid(False)\n",
    "ax.xaxis.set(ticks=(0, 1), ticklabels = classes)\n",
    "ax.yaxis.set(ticks=(0, 1), ticklabels = classes)\n",
    "ax.set_ylim(2.5, -0.5)\n",
    "for i in range(2):\n",
    "    for j in range(2):\n",
    "        ax.text(j, i, con_mat.iloc[i, j], ha='center', va='center', color='red')\n",
    "plt.show()"
   ]
  },
  {
   "cell_type": "code",
   "execution_count": 18,
   "id": "2e4c18f2",
   "metadata": {},
   "outputs": [
    {
     "data": {
      "text/plain": [
       "97.48711340206185"
      ]
     },
     "execution_count": 18,
     "metadata": {},
     "output_type": "execute_result"
    }
   ],
   "source": [
    "score = decision.score(x_test, y_test)\n",
    "score*100"
   ]
  },
  {
   "cell_type": "code",
   "execution_count": 19,
   "id": "099e6512",
   "metadata": {},
   "outputs": [
    {
     "name": "stdout",
     "output_type": "stream",
     "text": [
      "              precision    recall  f1-score   support\n",
      "\n",
      "         ham       0.98      0.98      0.98      1117\n",
      "        spam       0.95      0.96      0.96       435\n",
      "\n",
      "    accuracy                           0.97      1552\n",
      "   macro avg       0.97      0.97      0.97      1552\n",
      "weighted avg       0.97      0.97      0.97      1552\n",
      "\n"
     ]
    }
   ],
   "source": [
    "from sklearn.metrics import classification_report\n",
    "print(classification_report(y_test, result))"
   ]
  },
  {
   "cell_type": "code",
   "execution_count": null,
   "id": "8ac1f363",
   "metadata": {},
   "outputs": [],
   "source": []
  }
 ],
 "metadata": {
  "kernelspec": {
   "display_name": "Python 3 (ipykernel)",
   "language": "python",
   "name": "python3"
  },
  "language_info": {
   "codemirror_mode": {
    "name": "ipython",
    "version": 3
   },
   "file_extension": ".py",
   "mimetype": "text/x-python",
   "name": "python",
   "nbconvert_exporter": "python",
   "pygments_lexer": "ipython3",
   "version": "3.11.5"
  }
 },
 "nbformat": 4,
 "nbformat_minor": 5
}
